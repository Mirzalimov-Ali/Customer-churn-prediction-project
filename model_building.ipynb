{
 "cells": [
  {
   "cell_type": "code",
   "execution_count": 267,
   "id": "0ee1ad64",
   "metadata": {},
   "outputs": [],
   "source": [
    "import pandas as pd"
   ]
  },
  {
   "cell_type": "code",
   "execution_count": 268,
   "id": "13eab76d",
   "metadata": {},
   "outputs": [],
   "source": [
    "df = pd.read_csv('data/preprocessed/preprocessed_telco_customer_churn.csv')"
   ]
  },
  {
   "cell_type": "code",
   "execution_count": 269,
   "id": "08697f7e",
   "metadata": {},
   "outputs": [
    {
     "name": "stdout",
     "output_type": "stream",
     "text": [
      "<class 'pandas.core.frame.DataFrame'>\n",
      "RangeIndex: 7043 entries, 0 to 7042\n",
      "Data columns (total 47 columns):\n",
      " #   Column                                   Non-Null Count  Dtype  \n",
      "---  ------                                   --------------  -----  \n",
      " 0   customerID                               7043 non-null   float64\n",
      " 1   SeniorCitizen                            7043 non-null   float64\n",
      " 2   tenure                                   7043 non-null   float64\n",
      " 3   MonthlyCharges                           7043 non-null   float64\n",
      " 4   TotalCharges                             7043 non-null   float64\n",
      " 5   Churn                                    7043 non-null   int64  \n",
      " 6   gender_Female                            7043 non-null   float64\n",
      " 7   gender_Male                              7043 non-null   float64\n",
      " 8   Partner_No                               7043 non-null   float64\n",
      " 9   Partner_Yes                              7043 non-null   float64\n",
      " 10  Dependents_No                            7043 non-null   float64\n",
      " 11  Dependents_Yes                           7043 non-null   float64\n",
      " 12  PhoneService_No                          7043 non-null   float64\n",
      " 13  PhoneService_Yes                         7043 non-null   float64\n",
      " 14  MultipleLines_No                         7043 non-null   float64\n",
      " 15  MultipleLines_No phone service           7043 non-null   float64\n",
      " 16  MultipleLines_Yes                        7043 non-null   float64\n",
      " 17  InternetService_DSL                      7043 non-null   float64\n",
      " 18  InternetService_Fiber optic              7043 non-null   float64\n",
      " 19  InternetService_No                       7043 non-null   float64\n",
      " 20  OnlineSecurity_No                        7043 non-null   float64\n",
      " 21  OnlineSecurity_No internet service       7043 non-null   float64\n",
      " 22  OnlineSecurity_Yes                       7043 non-null   float64\n",
      " 23  OnlineBackup_No                          7043 non-null   float64\n",
      " 24  OnlineBackup_No internet service         7043 non-null   float64\n",
      " 25  OnlineBackup_Yes                         7043 non-null   float64\n",
      " 26  DeviceProtection_No                      7043 non-null   float64\n",
      " 27  DeviceProtection_No internet service     7043 non-null   float64\n",
      " 28  DeviceProtection_Yes                     7043 non-null   float64\n",
      " 29  TechSupport_No                           7043 non-null   float64\n",
      " 30  TechSupport_No internet service          7043 non-null   float64\n",
      " 31  TechSupport_Yes                          7043 non-null   float64\n",
      " 32  StreamingTV_No                           7043 non-null   float64\n",
      " 33  StreamingTV_No internet service          7043 non-null   float64\n",
      " 34  StreamingTV_Yes                          7043 non-null   float64\n",
      " 35  StreamingMovies_No                       7043 non-null   float64\n",
      " 36  StreamingMovies_No internet service      7043 non-null   float64\n",
      " 37  StreamingMovies_Yes                      7043 non-null   float64\n",
      " 38  Contract_Month-to-month                  7043 non-null   float64\n",
      " 39  Contract_One year                        7043 non-null   float64\n",
      " 40  Contract_Two year                        7043 non-null   float64\n",
      " 41  PaperlessBilling_No                      7043 non-null   float64\n",
      " 42  PaperlessBilling_Yes                     7043 non-null   float64\n",
      " 43  PaymentMethod_Bank transfer (automatic)  7043 non-null   float64\n",
      " 44  PaymentMethod_Credit card (automatic)    7043 non-null   float64\n",
      " 45  PaymentMethod_Electronic check           7043 non-null   float64\n",
      " 46  PaymentMethod_Mailed check               7043 non-null   float64\n",
      "dtypes: float64(46), int64(1)\n",
      "memory usage: 2.5 MB\n"
     ]
    }
   ],
   "source": [
    "df.info()"
   ]
  },
  {
   "cell_type": "markdown",
   "id": "a944f8b9",
   "metadata": {},
   "source": [
    "# Import algorithms"
   ]
  },
  {
   "cell_type": "code",
   "execution_count": 270,
   "id": "a52f5ee0",
   "metadata": {},
   "outputs": [],
   "source": [
    "from sklearn.linear_model import LogisticRegression\n",
    "from sklearn.tree import DecisionTreeClassifier\n",
    "from sklearn.ensemble import RandomForestClassifier\n",
    "from sklearn.svm import SVC\n",
    "from sklearn.neighbors import KNeighborsClassifier"
   ]
  },
  {
   "cell_type": "markdown",
   "id": "c2746e9f",
   "metadata": {},
   "source": [
    "# Import metrics"
   ]
  },
  {
   "cell_type": "code",
   "execution_count": 271,
   "id": "460a2b6a",
   "metadata": {},
   "outputs": [],
   "source": [
    "from sklearn.metrics import accuracy_score, classification_report, mean_absolute_error"
   ]
  },
  {
   "cell_type": "markdown",
   "id": "a67d2e9c",
   "metadata": {},
   "source": [
    "# Train/Test split"
   ]
  },
  {
   "cell_type": "code",
   "execution_count": 272,
   "id": "965ef5d9",
   "metadata": {},
   "outputs": [],
   "source": [
    "from sklearn.model_selection import train_test_split\n",
    "\n",
    "x = df.drop('Churn', axis=1)\n",
    "y = df['Churn']\n",
    "\n",
    "x_train, x_test, y_train, y_test = train_test_split(x, y, test_size=0.2, random_state=42)"
   ]
  },
  {
   "cell_type": "markdown",
   "id": "93c0c87e",
   "metadata": {},
   "source": [
    "# Logistic Regression"
   ]
  },
  {
   "cell_type": "code",
   "execution_count": 273,
   "id": "7965171e",
   "metadata": {},
   "outputs": [],
   "source": [
    "lr = LogisticRegression()\n",
    "\n",
    "lr.fit(x_train, y_train)\n",
    "\n",
    "y_pred = lr.predict(x_test)"
   ]
  },
  {
   "cell_type": "code",
   "execution_count": 274,
   "id": "74556086",
   "metadata": {},
   "outputs": [],
   "source": [
    "lr_score = accuracy_score(y_test, y_pred)\n",
    "lr_report = classification_report(y_test, y_pred)\n",
    "lr_mae = mean_absolute_error(y_test, y_pred)"
   ]
  },
  {
   "cell_type": "code",
   "execution_count": 275,
   "id": "d444bf0f",
   "metadata": {},
   "outputs": [
    {
     "data": {
      "text/plain": [
       "0.8176011355571328"
      ]
     },
     "execution_count": 275,
     "metadata": {},
     "output_type": "execute_result"
    }
   ],
   "source": [
    "lr_score"
   ]
  },
  {
   "cell_type": "code",
   "execution_count": 276,
   "id": "41bd3830",
   "metadata": {},
   "outputs": [
    {
     "name": "stdout",
     "output_type": "stream",
     "text": [
      "              precision    recall  f1-score   support\n",
      "\n",
      "           0       0.86      0.91      0.88      1036\n",
      "           1       0.69      0.57      0.62       373\n",
      "\n",
      "    accuracy                           0.82      1409\n",
      "   macro avg       0.77      0.74      0.75      1409\n",
      "weighted avg       0.81      0.82      0.81      1409\n",
      "\n"
     ]
    }
   ],
   "source": [
    "print(lr_report)"
   ]
  },
  {
   "cell_type": "code",
   "execution_count": 277,
   "id": "1433d189",
   "metadata": {},
   "outputs": [
    {
     "data": {
      "text/plain": [
       "0.1823988644428673"
      ]
     },
     "execution_count": 277,
     "metadata": {},
     "output_type": "execute_result"
    }
   ],
   "source": [
    "lr_mae"
   ]
  },
  {
   "cell_type": "markdown",
   "id": "9c56a79d",
   "metadata": {},
   "source": [
    "# Decision Tree"
   ]
  },
  {
   "cell_type": "code",
   "execution_count": 278,
   "id": "418a42fc",
   "metadata": {},
   "outputs": [],
   "source": [
    "dt = DecisionTreeClassifier(random_state=42)\n",
    "\n",
    "dt.fit(x_train, y_train)\n",
    "\n",
    "y_pred = dt.predict(x_test)"
   ]
  },
  {
   "cell_type": "code",
   "execution_count": 279,
   "id": "07beb2c2",
   "metadata": {},
   "outputs": [],
   "source": [
    "dt_score = accuracy_score(y_test, y_pred)\n",
    "dt_report = classification_report(y_test, y_pred)\n",
    "dt_mae = mean_absolute_error(y_test, y_pred)"
   ]
  },
  {
   "cell_type": "code",
   "execution_count": 280,
   "id": "a6a5113e",
   "metadata": {},
   "outputs": [
    {
     "data": {
      "text/plain": [
       "0.723207948899929"
      ]
     },
     "execution_count": 280,
     "metadata": {},
     "output_type": "execute_result"
    }
   ],
   "source": [
    "dt_score"
   ]
  },
  {
   "cell_type": "code",
   "execution_count": 281,
   "id": "80fa9ea1",
   "metadata": {},
   "outputs": [
    {
     "name": "stdout",
     "output_type": "stream",
     "text": [
      "              precision    recall  f1-score   support\n",
      "\n",
      "           0       0.82      0.80      0.81      1036\n",
      "           1       0.48      0.52      0.50       373\n",
      "\n",
      "    accuracy                           0.72      1409\n",
      "   macro avg       0.65      0.66      0.65      1409\n",
      "weighted avg       0.73      0.72      0.73      1409\n",
      "\n"
     ]
    }
   ],
   "source": [
    "print(dt_report)"
   ]
  },
  {
   "cell_type": "code",
   "execution_count": 282,
   "id": "c35cd4e6",
   "metadata": {},
   "outputs": [
    {
     "data": {
      "text/plain": [
       "0.276792051100071"
      ]
     },
     "execution_count": 282,
     "metadata": {},
     "output_type": "execute_result"
    }
   ],
   "source": [
    "dt_mae"
   ]
  },
  {
   "cell_type": "markdown",
   "id": "809c2f6c",
   "metadata": {},
   "source": [
    "# Random Forest"
   ]
  },
  {
   "cell_type": "code",
   "execution_count": 283,
   "id": "9d9eb2a8",
   "metadata": {},
   "outputs": [],
   "source": [
    "rf = RandomForestClassifier(random_state=42)\n",
    "\n",
    "rf.fit(x_train, y_train)\n",
    "\n",
    "y_pred = rf.predict(x_test)"
   ]
  },
  {
   "cell_type": "code",
   "execution_count": 284,
   "id": "4f2fe3bd",
   "metadata": {},
   "outputs": [],
   "source": [
    "rf_score = accuracy_score(y_test, y_pred)\n",
    "rf_report = classification_report(y_test, y_pred)\n",
    "rf_mae = mean_absolute_error(y_test, y_pred)"
   ]
  },
  {
   "cell_type": "code",
   "execution_count": 285,
   "id": "0878c037",
   "metadata": {},
   "outputs": [
    {
     "data": {
      "text/plain": [
       "0.794180269694819"
      ]
     },
     "execution_count": 285,
     "metadata": {},
     "output_type": "execute_result"
    }
   ],
   "source": [
    "rf_score"
   ]
  },
  {
   "cell_type": "code",
   "execution_count": 286,
   "id": "a84e85ee",
   "metadata": {},
   "outputs": [
    {
     "name": "stdout",
     "output_type": "stream",
     "text": [
      "              precision    recall  f1-score   support\n",
      "\n",
      "           0       0.83      0.90      0.87      1036\n",
      "           1       0.65      0.49      0.56       373\n",
      "\n",
      "    accuracy                           0.79      1409\n",
      "   macro avg       0.74      0.70      0.71      1409\n",
      "weighted avg       0.78      0.79      0.78      1409\n",
      "\n"
     ]
    }
   ],
   "source": [
    "print(rf_report)"
   ]
  },
  {
   "cell_type": "code",
   "execution_count": 287,
   "id": "4d89fef3",
   "metadata": {},
   "outputs": [
    {
     "data": {
      "text/plain": [
       "0.20581973030518097"
      ]
     },
     "execution_count": 287,
     "metadata": {},
     "output_type": "execute_result"
    }
   ],
   "source": [
    "rf_mae"
   ]
  },
  {
   "cell_type": "markdown",
   "id": "a2216940",
   "metadata": {},
   "source": [
    "# SVM"
   ]
  },
  {
   "cell_type": "code",
   "execution_count": 288,
   "id": "718d3eb9",
   "metadata": {},
   "outputs": [],
   "source": [
    "svc = SVC()\n",
    "\n",
    "svc.fit(x_train, y_train)\n",
    "\n",
    "y_pred = svc.predict(x_test)"
   ]
  },
  {
   "cell_type": "code",
   "execution_count": 289,
   "id": "ddb15d38",
   "metadata": {},
   "outputs": [],
   "source": [
    "svc_score = accuracy_score(y_test, y_pred)\n",
    "svc_report = classification_report(y_test, y_pred)\n",
    "svc_mae = mean_absolute_error(y_test, y_pred)"
   ]
  },
  {
   "cell_type": "code",
   "execution_count": 290,
   "id": "933588ac",
   "metadata": {},
   "outputs": [
    {
     "data": {
      "text/plain": [
       "0.8026969481902059"
      ]
     },
     "execution_count": 290,
     "metadata": {},
     "output_type": "execute_result"
    }
   ],
   "source": [
    "svc_score"
   ]
  },
  {
   "cell_type": "code",
   "execution_count": 291,
   "id": "22b34938",
   "metadata": {},
   "outputs": [
    {
     "name": "stdout",
     "output_type": "stream",
     "text": [
      "              precision    recall  f1-score   support\n",
      "\n",
      "           0       0.83      0.91      0.87      1036\n",
      "           1       0.67      0.50      0.57       373\n",
      "\n",
      "    accuracy                           0.80      1409\n",
      "   macro avg       0.75      0.71      0.72      1409\n",
      "weighted avg       0.79      0.80      0.79      1409\n",
      "\n"
     ]
    }
   ],
   "source": [
    "print(svc_report)"
   ]
  },
  {
   "cell_type": "code",
   "execution_count": 292,
   "id": "c36f02ae",
   "metadata": {},
   "outputs": [
    {
     "data": {
      "text/plain": [
       "0.19730305180979418"
      ]
     },
     "execution_count": 292,
     "metadata": {},
     "output_type": "execute_result"
    }
   ],
   "source": [
    "svc_mae"
   ]
  },
  {
   "cell_type": "markdown",
   "id": "779e4432",
   "metadata": {},
   "source": [
    "# KNN"
   ]
  },
  {
   "cell_type": "code",
   "execution_count": 293,
   "id": "2f9ee79e",
   "metadata": {},
   "outputs": [],
   "source": [
    "knn = KNeighborsClassifier()\n",
    "\n",
    "knn.fit(x_train, y_train)\n",
    "\n",
    "y_pred = knn.predict(x_test)"
   ]
  },
  {
   "cell_type": "code",
   "execution_count": 294,
   "id": "615ccdca",
   "metadata": {},
   "outputs": [],
   "source": [
    "knn_score = accuracy_score(y_test, y_pred)\n",
    "knn_report = classification_report(y_test, y_pred)\n",
    "knn_mae = mean_absolute_error(y_test, y_pred)"
   ]
  },
  {
   "cell_type": "code",
   "execution_count": 295,
   "id": "41a6e5b8",
   "metadata": {},
   "outputs": [
    {
     "data": {
      "text/plain": [
       "0.7778566359119943"
      ]
     },
     "execution_count": 295,
     "metadata": {},
     "output_type": "execute_result"
    }
   ],
   "source": [
    "knn_score"
   ]
  },
  {
   "cell_type": "code",
   "execution_count": 296,
   "id": "90214977",
   "metadata": {},
   "outputs": [
    {
     "name": "stdout",
     "output_type": "stream",
     "text": [
      "              precision    recall  f1-score   support\n",
      "\n",
      "           0       0.84      0.87      0.85      1036\n",
      "           1       0.59      0.53      0.56       373\n",
      "\n",
      "    accuracy                           0.78      1409\n",
      "   macro avg       0.71      0.70      0.70      1409\n",
      "weighted avg       0.77      0.78      0.77      1409\n",
      "\n"
     ]
    }
   ],
   "source": [
    "print(knn_report)"
   ]
  },
  {
   "cell_type": "code",
   "execution_count": 297,
   "id": "1d88380f",
   "metadata": {},
   "outputs": [
    {
     "data": {
      "text/plain": [
       "0.22214336408800567"
      ]
     },
     "execution_count": 297,
     "metadata": {},
     "output_type": "execute_result"
    }
   ],
   "source": [
    "knn_mae"
   ]
  },
  {
   "cell_type": "markdown",
   "id": "c85b6d49",
   "metadata": {},
   "source": [
    "# Tabulate"
   ]
  },
  {
   "cell_type": "code",
   "execution_count": 298,
   "id": "dea95699",
   "metadata": {},
   "outputs": [],
   "source": [
    "from tabulate import tabulate"
   ]
  },
  {
   "cell_type": "code",
   "execution_count": 299,
   "id": "eb71d798",
   "metadata": {},
   "outputs": [],
   "source": [
    "result = [\n",
    "    ['Logistic Regression', lr_score, lr_mae],\n",
    "    ['Decision Tree', dt_score, dt_mae],\n",
    "    ['Random Forest', rf_score, rf_mae],\n",
    "    ['SVM', svc_score, svc_mae],\n",
    "    ['KNN', knn_score, knn_mae],\n",
    "]\n",
    "\n",
    "headers = ['Algorithm', 'Accuracy_score', 'mean absolute error']\n",
    "\n",
    "table = tabulate(result, headers=headers, tablefmt='grid', floatfmt='.2f')"
   ]
  },
  {
   "cell_type": "code",
   "execution_count": 300,
   "id": "4d187155",
   "metadata": {},
   "outputs": [
    {
     "name": "stdout",
     "output_type": "stream",
     "text": [
      "+---------------------+------------------+-----------------------+\n",
      "| Algorithm           |   Accuracy_score |   mean absolute error |\n",
      "+=====================+==================+=======================+\n",
      "| Logistic Regression |             0.82 |                  0.18 |\n",
      "+---------------------+------------------+-----------------------+\n",
      "| Decision Tree       |             0.72 |                  0.28 |\n",
      "+---------------------+------------------+-----------------------+\n",
      "| Random Forest       |             0.79 |                  0.21 |\n",
      "+---------------------+------------------+-----------------------+\n",
      "| SVM                 |             0.80 |                  0.20 |\n",
      "+---------------------+------------------+-----------------------+\n",
      "| KNN                 |             0.78 |                  0.22 |\n",
      "+---------------------+------------------+-----------------------+\n"
     ]
    }
   ],
   "source": [
    "print(table)"
   ]
  },
  {
   "cell_type": "markdown",
   "id": "558c2bf2",
   "metadata": {},
   "source": [
    "# Conclusion\n",
    "    Among all tested algorithms (Logistic Regression, Decision Tree, Random Forest, SVM, KNN), **Logistic Regression** showed the best performance.  \n",
    "    This model will be selected as the final model for predictions.\n"
   ]
  },
  {
   "cell_type": "markdown",
   "id": "8964592a",
   "metadata": {},
   "source": [
    "# ---------------------------------------------"
   ]
  },
  {
   "cell_type": "markdown",
   "id": "13e77700",
   "metadata": {},
   "source": [
    "# Joblib"
   ]
  },
  {
   "cell_type": "code",
   "execution_count": 304,
   "id": "f298636e",
   "metadata": {},
   "outputs": [],
   "source": [
    "from joblib import dump\n",
    "import os"
   ]
  },
  {
   "cell_type": "code",
   "execution_count": null,
   "id": "cea2e835",
   "metadata": {},
   "outputs": [],
   "source": [
    "def JoblibSave(algo):\n",
    "    os.makedirs(\"Model\", exist_ok=True)\n",
    "    algorithm = str(algo).split(\"(\")[0]\n",
    "    return dump(algo, f'Model/{algorithm}_prediction.joblib')"
   ]
  },
  {
   "cell_type": "code",
   "execution_count": 306,
   "id": "199a650f",
   "metadata": {},
   "outputs": [
    {
     "data": {
      "text/plain": [
       "['Model/KNeighborsClassifier_prediction.joblib']"
      ]
     },
     "execution_count": 306,
     "metadata": {},
     "output_type": "execute_result"
    }
   ],
   "source": [
    "JoblibSave(lr)\n",
    "JoblibSave(dt)\n",
    "JoblibSave(rf)\n",
    "JoblibSave(svc)\n",
    "JoblibSave(knn)"
   ]
  },
  {
   "cell_type": "code",
   "execution_count": 309,
   "id": "90258c32",
   "metadata": {},
   "outputs": [],
   "source": [
    "os.makedirs(\"predictions\", exist_ok=True)\n",
    "def SaveComparison(results):\n",
    "    table = tabulate(results, headers=[\"Model\", \"Accuracy\", \"MAE\"], tablefmt=\"grid\", floatfmt=\".2f\")\n",
    "    with open(\"predictions/all_models_comparison.txt\", \"w\") as f:\n",
    "        f.write(table)"
   ]
  },
  {
   "cell_type": "code",
   "execution_count": 310,
   "id": "08a7a64b",
   "metadata": {},
   "outputs": [],
   "source": [
    "SaveComparison(result)"
   ]
  }
 ],
 "metadata": {
  "kernelspec": {
   "display_name": "Python 3",
   "language": "python",
   "name": "python3"
  },
  "language_info": {
   "codemirror_mode": {
    "name": "ipython",
    "version": 3
   },
   "file_extension": ".py",
   "mimetype": "text/x-python",
   "name": "python",
   "nbconvert_exporter": "python",
   "pygments_lexer": "ipython3",
   "version": "3.11.9"
  }
 },
 "nbformat": 4,
 "nbformat_minor": 5
}
